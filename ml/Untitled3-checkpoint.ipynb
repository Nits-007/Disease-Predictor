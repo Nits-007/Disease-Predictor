{
 "cells": [
  {
   "cell_type": "code",
   "execution_count": 3,
   "id": "c22ec71f",
   "metadata": {},
   "outputs": [],
   "source": [
    "import pickle\n",
    "import numpy as np\n",
    "import pandas as pd\n",
    "import sklearn\n",
    "predictor=open('disease_predictor.pkl','rb')\n",
    "forest = pickle.load(predictor)"
   ]
  },
  {
   "cell_type": "code",
   "execution_count": 4,
   "id": "e0b7e9bb",
   "metadata": {},
   "outputs": [],
   "source": [
    "sympall_symps = {'itching': 0, 'skin rash': 0, 'nodal skin eruptions': 0, 'continuous sneezing': 0,\n",
    "                'shivering': 0, 'chills': 0, 'joint pain': 0, 'stomach pain': 0, 'acidity': 0, 'ulcers on tongue': 0,\n",
    "                'muscle wasting': 0, 'vomiting': 0, 'burning micturition': 0, 'spotting urination': 0, 'fatigue': 0,\n",
    "                'weight gain': 0, 'anxiety': 0, 'cold hands and feets': 0, 'mood swings': 0, 'weight loss': 0,\n",
    "                'restlessness': 0, 'lethargy': 0, 'patches in throat': 0, 'irregular sugar level': 0, 'cough': 0,\n",
    "                'high fever': 0, 'sunken eyes': 0, 'breathlessness': 0, 'sweating': 0, 'dehydration': 0,\n",
    "                'indigestion': 0, 'headache': 0, 'yellowish skin': 0, 'dark urine': 0, 'nausea': 0, 'loss of appetite': 0,\n",
    "                'pain behind the eyes': 0, 'back pain': 0, 'constipation': 0, 'abdominal pain': 0, 'diarrhoea': 0, 'mild fever': 0,\n",
    "                'yellow urine': 0, 'yellowing of eyes': 0, 'acute liver failure': 0, 'fluid overload': 0, 'swelling of stomach': 0,\n",
    "                'swelled lymph nodes': 0, 'malaise': 0, 'blurred and distorted vision': 0, 'phlegm': 0, 'throat irritation': 0,\n",
    "                'redness of eyes': 0, 'sinus pressure': 0, 'runny nose': 0, 'congestion': 0, 'chest pain': 0, 'weakness in limbs': 0,\n",
    "                'fast heart rate': 0, 'pain during bowel movements': 0, 'pain in anal region': 0, 'bloody stool': 0,\n",
    "                'irritation in anus': 0, 'neck pain': 0, 'dizziness': 0, 'cramps': 0, 'bruising': 0, 'obesity': 0, 'swollen legs': 0,\n",
    "                'swollen blood vessels': 0, 'puffy face and eyes': 0, 'enlarged thyroid': 0, 'brittle nails': 0, 'swollen extremeties': 0,\n",
    "                'excessive hunger': 0, 'extra marital contacts': 0, 'drying and tingling lips': 0, 'slurred speech': 0,\n",
    "                'knee pain': 0, 'hip joint pain': 0, 'muscle weakness': 0, 'stiff neck': 0, 'swelling joints': 0, 'movement stiffness': 0,\n",
    "                'spinning movements': 0, 'loss of balance': 0, 'unsteadiness': 0, 'weakness of one body side': 0, 'loss of smell': 0,\n",
    "                'bladder discomfort': 0, 'foul smell of urine': 0, 'continuous feel of urine': 0, 'passage of gases': 0, 'internal itching': 0,\n",
    "                'toxic look (typhos)': 0, 'depression': 0, 'irritability': 0, 'muscle pain': 0, 'altered sensorium': 0,\n",
    "                'red spots over body': 0, 'belly pain': 0, 'abnormal menstruation': 0, 'dischromic patches': 0, 'watering from eyes': 0,\n",
    "                'increased appetite': 0, 'polyuria': 0, 'family history': 0, 'mucoid sputum': 0, 'rusty sputum': 0, 'lack of concentration': 0,\n",
    "                'visual disturbances': 0, 'receiving blood transfusion': 0, 'receiving unsterile injections': 0, 'coma': 0,\n",
    "                'stomach bleeding': 0, 'distention of abdomen': 0, 'history of alcohol consumption': 0, 'fluid overload.1': 0,\n",
    "                'blood in sputum': 0, 'prominent veins on calf': 0, 'palpitations': 0, 'painful walking': 0, 'pus filled pimples': 0,\n",
    "                'blackheads': 0, 'scurring': 0, 'skin peeling': 0, 'silver like dusting': 0, 'small dents in nails': 0, 'inflammatory nails': 0,\n",
    "                'blister': 0, 'red sore around nose': 0, 'yellow crust ooze': 0}"
   ]
  },
  {
   "cell_type": "code",
   "execution_count": 5,
   "id": "81b25d84",
   "metadata": {},
   "outputs": [
    {
     "ename": "NameError",
     "evalue": "name 'symptoms' is not defined",
     "output_type": "error",
     "traceback": [
      "\u001b[1;31m---------------------------------------------------------------------------\u001b[0m",
      "\u001b[1;31mNameError\u001b[0m                                 Traceback (most recent call last)",
      "Cell \u001b[1;32mIn[5], line 3\u001b[0m\n\u001b[0;32m      1\u001b[0m symps \u001b[38;5;241m=\u001b[39m [\u001b[38;5;124m'\u001b[39m\u001b[38;5;124mshivering\u001b[39m\u001b[38;5;124m'\u001b[39m , \u001b[38;5;124m'\u001b[39m\u001b[38;5;124mchills\u001b[39m\u001b[38;5;124m'\u001b[39m , \u001b[38;5;124m'\u001b[39m\u001b[38;5;124myellow urine\u001b[39m\u001b[38;5;124m'\u001b[39m , \u001b[38;5;124m'\u001b[39m\u001b[38;5;124mrunny nose\u001b[39m\u001b[38;5;124m'\u001b[39m]\n\u001b[0;32m      2\u001b[0m \u001b[38;5;28;01mfor\u001b[39;00m s \u001b[38;5;129;01min\u001b[39;00m symps :\n\u001b[1;32m----> 3\u001b[0m     symptoms[s] \u001b[38;5;241m=\u001b[39m \u001b[38;5;241m1\u001b[39m \n\u001b[0;32m      4\u001b[0m \u001b[38;5;28mprint\u001b[39m(symptoms)\n",
      "\u001b[1;31mNameError\u001b[0m: name 'symptoms' is not defined"
     ]
    }
   ],
   "source": [
    "symps = ['shivering' , 'chills' , 'yellow urine' , 'runny nose']\n",
    "for s in symps :\n",
    "    symptoms[s] = 1 \n",
    "print(symptoms)"
   ]
  },
  {
   "cell_type": "code",
   "execution_count": null,
   "id": "6b97f637",
   "metadata": {},
   "outputs": [],
   "source": [
    "user_input = pd.DataFrame(columns=list(symptoms.keys()))\n",
    "user_input.loc[0] = np.array(list(symptoms.values()))\n",
    "user_input"
   ]
  },
  {
   "cell_type": "code",
   "execution_count": 6,
   "id": "65697d6c",
   "metadata": {},
   "outputs": [
    {
     "ename": "NameError",
     "evalue": "name 'user_input' is not defined",
     "output_type": "error",
     "traceback": [
      "\u001b[1;31m---------------------------------------------------------------------------\u001b[0m",
      "\u001b[1;31mNameError\u001b[0m                                 Traceback (most recent call last)",
      "Cell \u001b[1;32mIn[6], line 1\u001b[0m\n\u001b[1;32m----> 1\u001b[0m result\u001b[38;5;241m=\u001b[39mforest\u001b[38;5;241m.\u001b[39mpredict_proba(user_input)\n",
      "\u001b[1;31mNameError\u001b[0m: name 'user_input' is not defined"
     ]
    }
   ],
   "source": [
    "result=forest.predict_proba(user_input)"
   ]
  },
  {
   "cell_type": "code",
   "execution_count": 7,
   "id": "d02be28a",
   "metadata": {},
   "outputs": [
    {
     "ename": "NameError",
     "evalue": "name 'result' is not defined",
     "output_type": "error",
     "traceback": [
      "\u001b[1;31m---------------------------------------------------------------------------\u001b[0m",
      "\u001b[1;31mNameError\u001b[0m                                 Traceback (most recent call last)",
      "Cell \u001b[1;32mIn[7], line 1\u001b[0m\n\u001b[1;32m----> 1\u001b[0m max_proba\u001b[38;5;241m=\u001b[39mresult\u001b[38;5;241m.\u001b[39mmax()\n\u001b[0;32m      2\u001b[0m max_proba_index\u001b[38;5;241m=\u001b[39mresult\u001b[38;5;241m.\u001b[39margmax()\n",
      "\u001b[1;31mNameError\u001b[0m: name 'result' is not defined"
     ]
    }
   ],
   "source": [
    "max_proba=result.max()\n",
    "max_proba_index=result.argmax()"
   ]
  },
  {
   "cell_type": "code",
   "execution_count": 23,
   "id": "f4614075",
   "metadata": {
    "scrolled": true
   },
   "outputs": [
    {
     "name": "stdout",
     "output_type": "stream",
     "text": [
      "Predicted class with maximum probability: Common Cold\n",
      "Maximum probability: 8.653329076357196\n",
      "You may or may have: Common Cold\n"
     ]
    }
   ],
   "source": [
    "print(\"Predicted class with maximum probability:\", forest.classes_[max_proba_index])\n",
    "print(\"Maximum probability:\", max_proba*100)\n",
    "if(max_proba>60):\n",
    "    print(\"You have confirmed disease:\",forest.classes_[max_proba_index])\n",
    "else:\n",
    "    print(\"You may or may have:\",forest.classes_[max_proba_index])"
   ]
  },
  {
   "cell_type": "code",
   "execution_count": null,
   "id": "0b0a85d9",
   "metadata": {},
   "outputs": [],
   "source": []
  },
  {
   "cell_type": "code",
   "execution_count": 15,
   "id": "0543f59a",
   "metadata": {},
   "outputs": [
    {
     "name": "stdout",
     "output_type": "stream",
     "text": [
      "Predicted class with maximum probability: Hepatitis D\n",
      "Maximum probability: 3.4746852622465947\n",
      "You may or may have: Hepatitis D\n"
     ]
    }
   ],
   "source": [
    "import pickle\n",
    "import numpy as np\n",
    "import pandas as pd\n",
    "import sklearn\n",
    "def pred(symps) :\n",
    "    predictor=open('disease_predictor.pkl','rb')\n",
    "    forest = pickle.load(predictor)\n",
    "\n",
    "    symptoms = {'itching': 0, 'skin rash': 0, 'nodal skin eruptions': 0, 'continuous sneezing': 0,\n",
    "                    'shivering': 0, 'chills': 0, 'joint pain': 0, 'stomach pain': 0, 'acidity': 0, 'ulcers on tongue': 0,\n",
    "                    'muscle wasting': 0, 'vomiting': 0, 'burning micturition': 0, 'spotting urination': 0, 'fatigue': 0,\n",
    "                    'weight gain': 0, 'anxiety': 0, 'cold hands and feets': 0, 'mood swings': 0, 'weight loss': 0,\n",
    "                    'restlessness': 0, 'lethargy': 0, 'patches in throat': 0, 'irregular sugar level': 0, 'cough': 0,\n",
    "                    'high fever': 0, 'sunken eyes': 0, 'breathlessness': 0, 'sweating': 0, 'dehydration': 0,\n",
    "                    'indigestion': 0, 'headache': 0, 'yellowish skin': 0, 'dark urine': 0, 'nausea': 0, 'loss of appetite': 0,\n",
    "                    'pain behind the eyes': 0, 'back pain': 0, 'constipation': 0, 'abdominal pain': 0, 'diarrhoea': 0, 'mild fever': 0,\n",
    "                    'yellow urine': 0, 'yellowing of eyes': 0, 'acute liver failure': 0, 'fluid overload': 0, 'swelling of stomach': 0,\n",
    "                    'swelled lymph nodes': 0, 'malaise': 0, 'blurred and distorted vision': 0, 'phlegm': 0, 'throat irritation': 0,\n",
    "                    'redness of eyes': 0, 'sinus pressure': 0, 'runny nose': 0, 'congestion': 0, 'chest pain': 0, 'weakness in limbs': 0,\n",
    "                    'fast heart rate': 0, 'pain during bowel movements': 0, 'pain in anal region': 0, 'bloody stool': 0,\n",
    "                    'irritation in anus': 0, 'neck pain': 0, 'dizziness': 0, 'cramps': 0, 'bruising': 0, 'obesity': 0, 'swollen legs': 0,\n",
    "                    'swollen blood vessels': 0, 'puffy face and eyes': 0, 'enlarged thyroid': 0, 'brittle nails': 0, 'swollen extremeties': 0,\n",
    "                    'excessive hunger': 0, 'extra marital contacts': 0, 'drying and tingling lips': 0, 'slurred speech': 0,\n",
    "                    'knee pain': 0, 'hip joint pain': 0, 'muscle weakness': 0, 'stiff neck': 0, 'swelling joints': 0, 'movement stiffness': 0,\n",
    "                    'spinning movements': 0, 'loss of balance': 0, 'unsteadiness': 0, 'weakness of one body side': 0, 'loss of smell': 0,\n",
    "                    'bladder discomfort': 0, 'foul smell of urine': 0, 'continuous feel of urine': 0, 'passage of gases': 0, 'internal itching': 0,\n",
    "                    'toxic look (typhos)': 0, 'depression': 0, 'irritability': 0, 'muscle pain': 0, 'altered sensorium': 0,\n",
    "                    'red spots over body': 0, 'belly pain': 0, 'abnormal menstruation': 0, 'dischromic patches': 0, 'watering from eyes': 0,\n",
    "                    'increased appetite': 0, 'polyuria': 0, 'family history': 0, 'mucoid sputum': 0, 'rusty sputum': 0, 'lack of concentration': 0,\n",
    "                    'visual disturbances': 0, 'receiving blood transfusion': 0, 'receiving unsterile injections': 0, 'coma': 0,\n",
    "                    'stomach bleeding': 0, 'distention of abdomen': 0, 'history of alcohol consumption': 0, 'fluid overload.1': 0,\n",
    "                    'blood in sputum': 0, 'prominent veins on calf': 0, 'palpitations': 0, 'painful walking': 0, 'pus filled pimples': 0,\n",
    "                    'blackheads': 0, 'scurring': 0, 'skin peeling': 0, 'silver like dusting': 0, 'small dents in nails': 0, 'inflammatory nails': 0,\n",
    "                    'blister': 0, 'red sore around nose': 0, 'yellow crust ooze': 0}\n",
    "\n",
    "    for s in symps :\n",
    "        symptoms[s] = 1 \n",
    "\n",
    "    user_input = pd.DataFrame(columns=list(symptoms.keys()))\n",
    "    user_input.loc[0] = np.array(list(symptoms.values()))\n",
    "    user_input\n",
    "\n",
    "    result=forest.predict_proba(user_input)\n",
    "\n",
    "    max_proba=result.max()\n",
    "    max_proba_index=result.argmax()\n",
    "\n",
    "    print(\"Predicted class with maximum probability:\", forest.classes_[max_proba_index])\n",
    "    print(\"Maximum probability:\", max_proba*100)\n",
    "    if(max_proba>60):\n",
    "        print(\"You have confirmed disease:\",forest.classes_[max_proba_index])\n",
    "    else:\n",
    "        print(\"You may or may have:\",forest.classes_[max_proba_index])\n",
    "\n",
    "symps = ['dark urine' , 'yellowish skin' , 'abdominal pain']\n",
    "pred(symps)\n",
    "\n"
   ]
  },
  {
   "cell_type": "code",
   "execution_count": null,
   "id": "c7c81f2d",
   "metadata": {},
   "outputs": [],
   "source": []
  }
 ],
 "metadata": {
  "kernelspec": {
   "display_name": "Python 3 (ipykernel)",
   "language": "python",
   "name": "python3"
  },
  "language_info": {
   "codemirror_mode": {
    "name": "ipython",
    "version": 3
   },
   "file_extension": ".py",
   "mimetype": "text/x-python",
   "name": "python",
   "nbconvert_exporter": "python",
   "pygments_lexer": "ipython3",
   "version": "3.11.5"
  }
 },
 "nbformat": 4,
 "nbformat_minor": 5
}
